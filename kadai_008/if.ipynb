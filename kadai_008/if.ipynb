{
  "nbformat": 4,
  "nbformat_minor": 0,
  "metadata": {
    "colab": {
      "provenance": []
    },
    "kernelspec": {
      "name": "python3",
      "display_name": "Python 3"
    },
    "language_info": {
      "name": "python"
    }
  },
  "cells": [
    {
      "cell_type": "code",
      "execution_count": 8,
      "metadata": {
        "colab": {
          "base_uri": "https://localhost:8080/"
        },
        "id": "Y0fNf_9Rklce",
        "outputId": "c58c0a90-8091-4371-abe6-77a0c2e8a186"
      },
      "outputs": [
        {
          "output_type": "stream",
          "name": "stdout",
          "text": [
            "FizzBuzz\n"
          ]
        }
      ],
      "source": [
        "var = 15\n",
        "\n",
        "div_five = var % 5\n",
        "div_three = var % 3\n",
        "\n",
        "if div_five == 0 and div_three == 0 :\n",
        "  print(\"FizzBuzz\")\n",
        "elif div_five == 0 :\n",
        "  print(\"Buzz\")\n",
        "elif div_three == 0 :\n",
        "  print(\"Fizz\")\n",
        "else:\n",
        "  print(var)\n"
      ]
    }
  ]
}