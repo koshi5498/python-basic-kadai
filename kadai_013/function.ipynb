{
  "nbformat": 4,
  "nbformat_minor": 0,
  "metadata": {
    "colab": {
      "provenance": []
    },
    "kernelspec": {
      "name": "python3",
      "display_name": "Python 3"
    },
    "language_info": {
      "name": "python"
    }
  },
  "cells": [
    {
      "cell_type": "code",
      "execution_count": 1,
      "metadata": {
        "colab": {
          "base_uri": "https://localhost:8080/"
        },
        "id": "8YXdD_2CzW9S",
        "outputId": "28350e33-ea6f-4ba0-c0d7-57e2033b83a5"
      },
      "outputs": [
        {
          "output_type": "execute_result",
          "data": {
            "text/plain": [
              "1100.0"
            ]
          },
          "metadata": {},
          "execution_count": 1
        }
      ],
      "source": [
        "def include_price(price, tax):\n",
        "  return price + price * tax * 0.01\n",
        "\n",
        "include_price(1000, 10)"
      ]
    }
  ]
}