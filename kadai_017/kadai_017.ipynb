{
  "nbformat": 4,
  "nbformat_minor": 0,
  "metadata": {
    "colab": {
      "provenance": []
    },
    "kernelspec": {
      "name": "python3",
      "display_name": "Python 3"
    },
    "language_info": {
      "name": "python"
    }
  },
  "cells": [
    {
      "cell_type": "code",
      "execution_count": 6,
      "metadata": {
        "colab": {
          "base_uri": "https://localhost:8080/"
        },
        "id": "-AZPkp2MfTeX",
        "outputId": "1a5bc9e7-19e3-4811-af4f-7765e93c1328"
      },
      "outputs": [
        {
          "output_type": "stream",
          "name": "stdout",
          "text": [
            "Smith:大人ではない\n",
            "Taylor:大人\n",
            "Baker:大人\n"
          ]
        }
      ],
      "source": [
        "class Human(object):\n",
        "  def __init__(self, name, age):\n",
        "    self.name = name\n",
        "    self.age = age\n",
        "\n",
        "  def check_adult(self):\n",
        "    if self.age >= 20 :\n",
        "      print(\"{}:大人\".format(self.name))\n",
        "    else:\n",
        "      print(\"{}:大人ではない\".format(self.name))\n",
        "\n",
        "person1 = Human(\"Smith\",19)\n",
        "person2 = Human(\"Taylor\", 22)\n",
        "person3 = Human(\"Baker\", 20)\n",
        "\n",
        "array = {person1, person2, person3}\n",
        "\n",
        "for person in array:\n",
        "  person.check_adult()\n"
      ]
    }
  ]
}