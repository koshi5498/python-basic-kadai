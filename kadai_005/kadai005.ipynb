{
  "nbformat": 4,
  "nbformat_minor": 0,
  "metadata": {
    "colab": {
      "provenance": []
    },
    "kernelspec": {
      "name": "python3",
      "display_name": "Python 3"
    },
    "language_info": {
      "name": "python"
    }
  },
  "cells": [
    {
      "cell_type": "code",
      "execution_count": 8,
      "metadata": {
        "colab": {
          "base_uri": "https://localhost:8080/"
        },
        "id": "h7QuAsE1MDrd",
        "outputId": "55a0f125-c68d-43c8-dd85-85c0b138ffdf"
      },
      "outputs": [
        {
          "output_type": "stream",
          "name": "stdout",
          "text": [
            "75 cm^2\n"
          ]
        }
      ],
      "source": [
        "#上辺\n",
        "top = 10\n",
        "#下辺\n",
        "bottom = 20\n",
        "#高さ\n",
        "height = 5\n",
        "\n",
        "#面積\n",
        "area = (top + bottom) * height / 2\n",
        "area = int(area)\n",
        "print(str(area)+\" cm^2\")"
      ]
    }
  ]
}